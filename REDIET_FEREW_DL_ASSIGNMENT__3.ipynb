{
  "nbformat": 4,
  "nbformat_minor": 0,
  "metadata": {
    "colab": {
      "provenance": []
    },
    "kernelspec": {
      "name": "python3",
      "display_name": "Python 3"
    },
    "language_info": {
      "name": "python"
    }
  },
  "cells": [
    {
      "cell_type": "markdown",
      "source": [
        "### Name: REDIET FEREW\n",
        "### ID No.: UGR/1415/12"
      ],
      "metadata": {
        "id": "BXYfWUx9q7vB"
      }
    },
    {
      "cell_type": "code",
      "source": [
        "import torch\n",
        "import collections"
      ],
      "metadata": {
        "id": "Cviy9FGHor-t"
      },
      "execution_count": 15,
      "outputs": []
    },
    {
      "cell_type": "code",
      "source": [
        "\n",
        "class DenseLayer():\n",
        "  def __init__(self, features, neurons):\n",
        "    self.weight = 0.01 * torch.rand(neurons, features)\n",
        "    self.biases = torch.zeros(1, neurons)\n",
        "  def forward(self, inputs):\n",
        "    self.output = torch.matmul(inputs, self.weight.T) + self.biases"
      ],
      "metadata": {
        "id": "TXNxrq8Kp9nC"
      },
      "execution_count": 16,
      "outputs": []
    },
    {
      "cell_type": "code",
      "source": [
        "#Relu Activation Function\n",
        "\n",
        "class ActivationRelu:\n",
        "\n",
        "  def forward(self, inputs):\n",
        "    #if inputs < 0 make 0 else make x\n",
        "    #tensor of some dimension\n",
        "    output = torch.max(inputs, torch.tensor(0.0))\n",
        "    return output\n"
      ],
      "metadata": {
        "id": "FkVGG-cGgttq"
      },
      "execution_count": 17,
      "outputs": []
    },
    {
      "cell_type": "code",
      "source": [
        "#softmax activation function\n",
        "class Activation_SoftMax:\n",
        "  def forward(self, inputs):\n",
        "    #calculate powers\n",
        "    power_x = torch.exp(inputs)\n",
        "    #get shape\n",
        "    shape_x = inputs.shape\n",
        "    sum_x = torch.sum(power_x, axis = 1, keepdims = True)\n",
        "    #divide\n",
        "    result = power_x / sum_x\n",
        "\n",
        "    return result\n"
      ],
      "metadata": {
        "id": "WAxwXnlAmXH_"
      },
      "execution_count": 18,
      "outputs": []
    },
    {
      "cell_type": "code",
      "source": [
        "#sigmoid activation function\n",
        "class Activation_Sigmoid:\n",
        "  def forward(self, inputs):\n",
        "\n",
        "    shape_x = inputs.shape\n",
        "    ones = torch.full(shape_x, 1)\n",
        "\n",
        "    sum_x = ones + inputs\n",
        "\n",
        "    res = ones / sum_x\n",
        "    return res\n",
        "\n"
      ],
      "metadata": {
        "id": "p7w4n5AvmfM4"
      },
      "execution_count": 19,
      "outputs": []
    },
    {
      "cell_type": "code",
      "source": [
        "#nitialize activations\n",
        "relu = ActivationRelu()\n",
        "sigmoid = Activation_Sigmoid()\n",
        "softmax = Activation_SoftMax()"
      ],
      "metadata": {
        "id": "Qe70_7z9nJpr"
      },
      "execution_count": 20,
      "outputs": []
    },
    {
      "cell_type": "code",
      "source": [
        "manual_seed = 42\n",
        "torch.manual_seed(manual_seed)\n",
        "\n",
        "# Number of features\n",
        "features = 4\n",
        "# Neurons in input layers\n",
        "neuron_1, neuron_2, neuron_3 = 18, 18, 18\n",
        "# Output class\n",
        "output_class = 3\n",
        "# Number of samples\n",
        "samples = 10\n",
        "\n",
        "\n",
        "\"\"\"\n",
        "First model with relu activation function\n",
        "\"\"\"\n",
        "lower_bound = 0\n",
        "upper_bound = 10000\n",
        "input = (upper_bound - lower_bound) * torch.rand(samples, features) + lower_bound\n",
        "# input = torch.rand(samples, features)\n",
        "\n",
        "layer_1 = DenseLayer(features, neuron_1)\n",
        "layer_1.forward(input)\n",
        "output_1 = relu.forward(layer_1.output)\n",
        "print(output_1.shape)\n",
        "\n",
        "layer_2 = DenseLayer(output_1.shape[1], neuron_2)\n",
        "layer_2.forward(output_1)\n",
        "output_2 = relu.forward(layer_2.output)\n",
        "print(output_2.shape)\n",
        "\n",
        "\n",
        "output_layer = DenseLayer(output_2.shape[1], output_class)\n",
        "output_layer.forward(output_2)\n",
        "print(output_layer.output.shape)\n",
        "final_output_1 = softmax.forward(output_layer.output)\n",
        "print(final_output_1)\n",
        "print(final_output_1.shape)"
      ],
      "metadata": {
        "colab": {
          "base_uri": "https://localhost:8080/"
        },
        "id": "Jsu9StEsmn-B",
        "outputId": "99492471-e135-47a1-da13-3efa833fafda"
      },
      "execution_count": 21,
      "outputs": [
        {
          "output_type": "stream",
          "name": "stdout",
          "text": [
            "torch.Size([10, 18])\n",
            "torch.Size([10, 18])\n",
            "torch.Size([10, 3])\n",
            "tensor([[0.3159, 0.3673, 0.3168],\n",
            "        [0.3223, 0.3547, 0.3230],\n",
            "        [0.3164, 0.3649, 0.3188],\n",
            "        [0.3171, 0.3639, 0.3190],\n",
            "        [0.3201, 0.3593, 0.3206],\n",
            "        [0.3233, 0.3525, 0.3242],\n",
            "        [0.3275, 0.3439, 0.3286],\n",
            "        [0.3217, 0.3540, 0.3243],\n",
            "        [0.3186, 0.3621, 0.3193],\n",
            "        [0.3192, 0.3599, 0.3208]])\n",
            "torch.Size([10, 3])\n"
          ]
        }
      ]
    },
    {
      "cell_type": "code",
      "source": [
        "manual_seed = 42\n",
        "torch.manual_seed(manual_seed)\n",
        "\n",
        "# Number of features\n",
        "features = 4\n",
        "# Neurons in input layers\n",
        "neuron_1, neuron_2, neuron_3 = 18, 18, 18\n",
        "# Output class\n",
        "output_classes = 3\n",
        "# Number of samples\n",
        "samples = 10\n",
        "\n",
        "\n",
        "\"\"\"\n",
        "Second model with sigmoid activation function\n",
        "\"\"\"\n",
        "input = torch.rand(samples, features)\n",
        "\n",
        "layer_1 = DenseLayer(features, neuron_1)\n",
        "layer_1.forward(input)\n",
        "output_1 = sigmoid.forward(layer_1.output)\n",
        "print(output_1.shape)\n",
        "\n",
        "layer_2 = DenseLayer(output_1.shape[1], neuron_2)\n",
        "layer_2.forward(output_1)\n",
        "output_2 = sigmoid.forward(layer_2.output)\n",
        "print(output_2.shape)\n",
        "\n",
        "\n",
        "output_layer = DenseLayer(output_2.shape[1], output_classes)\n",
        "output_layer.forward(output_2)\n",
        "final_output_2 = softmax.forward(output_layer.output)\n",
        "print(final_output_2)\n",
        "print(final_output_2.shape)"
      ],
      "metadata": {
        "id": "vouKTFwZnP6m",
        "colab": {
          "base_uri": "https://localhost:8080/"
        },
        "outputId": "0b50a16c-7523-4883-a876-bfefc98d6193"
      },
      "execution_count": 22,
      "outputs": [
        {
          "output_type": "stream",
          "name": "stdout",
          "text": [
            "torch.Size([10, 18])\n",
            "torch.Size([10, 18])\n",
            "tensor([[0.3318, 0.3359, 0.3323],\n",
            "        [0.3318, 0.3359, 0.3323],\n",
            "        [0.3318, 0.3359, 0.3323],\n",
            "        [0.3318, 0.3359, 0.3323],\n",
            "        [0.3318, 0.3359, 0.3323],\n",
            "        [0.3318, 0.3359, 0.3323],\n",
            "        [0.3318, 0.3359, 0.3323],\n",
            "        [0.3318, 0.3359, 0.3323],\n",
            "        [0.3318, 0.3359, 0.3323],\n",
            "        [0.3318, 0.3359, 0.3323]])\n",
            "torch.Size([10, 3])\n"
          ]
        }
      ]
    },
    {
      "cell_type": "code",
      "source": [
        "# Generate random values for y_true (one-hot encoded)\n",
        "y_true = torch.eye(output_classes)[torch.randint(output_classes, size=(samples,))]\n",
        "\n",
        "# Generate random values for y_true_label (label-encoded)\n",
        "y_true_label = torch.randint(output_classes, size=(samples,))\n",
        "y_true, y_true_label"
      ],
      "metadata": {
        "colab": {
          "base_uri": "https://localhost:8080/"
        },
        "id": "oToDpX4luWMp",
        "outputId": "1b7022ca-35f1-4868-ab93-3c0424b8b677"
      },
      "execution_count": 23,
      "outputs": [
        {
          "output_type": "execute_result",
          "data": {
            "text/plain": [
              "(tensor([[0., 1., 0.],\n",
              "         [0., 1., 0.],\n",
              "         [1., 0., 0.],\n",
              "         [0., 0., 1.],\n",
              "         [0., 1., 0.],\n",
              "         [0., 0., 1.],\n",
              "         [1., 0., 0.],\n",
              "         [0., 0., 1.],\n",
              "         [1., 0., 0.],\n",
              "         [1., 0., 0.]]),\n",
              " tensor([2, 1, 0, 2, 1, 1, 0, 2, 1, 2]))"
            ]
          },
          "metadata": {},
          "execution_count": 23
        }
      ]
    },
    {
      "cell_type": "code",
      "source": [
        "def log_loss(y_true, y_pred):\n",
        "    # if the target is given in one-hot encoded format\n",
        "    if y_true.dim() > 1:\n",
        "        loss = -torch.mean(y_true * torch.log(y_pred) + (1 - y_true) * torch.log(1 - y_pred))\n",
        "    #if the target is given in label-encoding format\n",
        "    else:\n",
        "        y_true_one_hot = torch.zeros_like(y_pred)\n",
        "        y_true_one_hot.scatter_(1, y_true.view(-1, 1), 1)\n",
        "        loss = -torch.mean(y_true_one_hot * torch.log(y_pred) + (1 - y_true_one_hot) * torch.log(1 - y_pred))\n",
        "\n",
        "    return loss\n",
        "#calculating log loss for label encoding methods, for the two models activated with relu and sigmoid\n",
        "loss_1 = log_loss(y_true, final_output_1)\n",
        "loss_2 = log_loss(y_true, final_output_2)\n",
        "print(\"The log loss for the first model is: \" , loss_1)\n",
        "print(\"The log loss for the second model is: \", loss_2)"
      ],
      "metadata": {
        "colab": {
          "base_uri": "https://localhost:8080/"
        },
        "id": "abYytW-CtxE9",
        "outputId": "e09d65dc-986c-4a24-d580-11e39a618d67"
      },
      "execution_count": 24,
      "outputs": [
        {
          "output_type": "stream",
          "name": "stdout",
          "text": [
            "The log loss for the first model is:  tensor(0.6377)\n",
            "The log loss for the second model is:  tensor(0.6368)\n"
          ]
        }
      ]
    },
    {
      "cell_type": "code",
      "source": [
        "#calculating log loss for one-hot encoding methods, for the two models activated with relu and sigmoid\n",
        "loss_1_label = log_loss(y_true, final_output_1)\n",
        "loss_2_label = log_loss(y_true, final_output_2)\n",
        "print(\"The log loss for the first model is: \" , loss_1_label)\n",
        "print(\"The log loss for the second model is: \", loss_2_label)"
      ],
      "metadata": {
        "id": "Yz9uPeyIwsVR",
        "colab": {
          "base_uri": "https://localhost:8080/"
        },
        "outputId": "5cf5b82a-1a59-4b04-a12b-47ae04b99f7b"
      },
      "execution_count": 25,
      "outputs": [
        {
          "output_type": "stream",
          "name": "stdout",
          "text": [
            "The log loss for the first model is:  tensor(0.6377)\n",
            "The log loss for the second model is:  tensor(0.6368)\n"
          ]
        }
      ]
    },
    {
      "cell_type": "code",
      "source": [
        "def accuracy(y_true, y_pred):\n",
        "  predicted_vals = torch.argmax(y_pred,axis=1)\n",
        "\n",
        "  values = predicted_vals == y_true_label\n",
        "\n",
        "  return values.tolist()\n"
      ],
      "metadata": {
        "id": "8t6SCtiqctYe"
      },
      "execution_count": 26,
      "outputs": []
    },
    {
      "cell_type": "code",
      "source": [
        "#calculating accuracy for one-hot encoding methods, for the two models activated with relu and sigmoid\n",
        "accuracy_1 = accuracy(y_true, final_output_1)\n",
        "accuracy_2 = accuracy(y_true, final_output_2)\n",
        "cnt_1 = collections.Counter(accuracy_1)\n",
        "cnt_2 = collections.Counter(accuracy_2)\n",
        "\n",
        "acc_1 = (cnt_1[True] / 10) * 100\n",
        "acc_2 = (cnt_2[True] / 10) * 100\n",
        "print(\"The accuracy for the first model is: \" , acc_1)\n",
        "print(\"The accuracy for the second model is: \", acc_2)"
      ],
      "metadata": {
        "id": "Y_CG0Y1jxGV9",
        "colab": {
          "base_uri": "https://localhost:8080/"
        },
        "outputId": "f6c7c9c5-9579-4437-8791-96e0efd9ebe0"
      },
      "execution_count": 27,
      "outputs": [
        {
          "output_type": "stream",
          "name": "stdout",
          "text": [
            "The accuracy for the first model is:  40.0\n",
            "The accuracy for the second model is:  40.0\n"
          ]
        }
      ]
    },
    {
      "cell_type": "code",
      "source": [
        "#calculating accuracy for label encoding methods, for the two models activated with relu and sigmoid\n",
        "accuracy_1_label = accuracy(y_true_label, final_output_1)\n",
        "accuracy_2_label = accuracy(y_true_label, final_output_2)\n",
        "cnt_1_label = collections.Counter(accuracy_1_label)\n",
        "cnt_2_label = collections.Counter(accuracy_1_label)\n",
        "\n",
        "acc_1_label = (cnt_1_label[True] / 10) * 100\n",
        "acc_2_label = (cnt_2_label[True] / 10) * 100\n",
        "print(\"The accuracy for the first model is: \" , acc_1_label)\n",
        "print(\"The accuracy for the second model is: \", acc_2_label)"
      ],
      "metadata": {
        "id": "-laIgpTCxcFO",
        "colab": {
          "base_uri": "https://localhost:8080/"
        },
        "outputId": "3a0af729-8d3d-4865-a2e2-dae427260e47"
      },
      "execution_count": 28,
      "outputs": [
        {
          "output_type": "stream",
          "name": "stdout",
          "text": [
            "The accuracy for the first model is:  40.0\n",
            "The accuracy for the second model is:  40.0\n"
          ]
        }
      ]
    },
    {
      "cell_type": "code",
      "source": [],
      "metadata": {
        "id": "xhQixmlhGHlM"
      },
      "execution_count": 28,
      "outputs": []
    }
  ]
}