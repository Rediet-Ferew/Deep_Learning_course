{
  "nbformat": 4,
  "nbformat_minor": 0,
  "metadata": {
    "colab": {
      "provenance": []
    },
    "kernelspec": {
      "name": "python3",
      "display_name": "Python 3"
    },
    "language_info": {
      "name": "python"
    }
  },
  "cells": [
    {
      "cell_type": "code",
      "execution_count": 89,
      "metadata": {
        "id": "7t1st7lxZZIN"
      },
      "outputs": [],
      "source": [
        "import torch"
      ]
    },
    {
      "cell_type": "code",
      "source": [
        "class DenseLayer:\n",
        "\n",
        "  def __init__(self, features, neurons):\n",
        "\n",
        "    self.weights = 0.01 * torch.rand(features, neurons)\n",
        "    self.biases = torch.zeros((1, neurons))\n",
        "\n",
        "  def forward(self, inputs):\n",
        "    self.output = torch.matmul(inputs, self.weights) + self.biases"
      ],
      "metadata": {
        "id": "n_dAFPneaAR4"
      },
      "execution_count": 90,
      "outputs": []
    },
    {
      "cell_type": "code",
      "source": [
        "class Activation_Sigmoid:\n",
        "  def forward(self, inputs):\n",
        "\n",
        "    shape_x = inputs.shape\n",
        "    ones = torch.full(shape_x, 1)\n",
        "\n",
        "    sum_x = ones + inputs\n",
        "\n",
        "    res = ones / sum_x\n",
        "    self.output = res"
      ],
      "metadata": {
        "id": "yWex7GuzaBb4"
      },
      "execution_count": 91,
      "outputs": []
    },
    {
      "cell_type": "code",
      "source": [
        "class Activation_Linear:\n",
        "  def forward(self, inputs):\n",
        "    self.output = inputs"
      ],
      "metadata": {
        "id": "VtdDPXMcxmjw"
      },
      "execution_count": 92,
      "outputs": []
    },
    {
      "cell_type": "code",
      "source": [
        "X = torch.tensor([0.6, 0.8])\n",
        "y = torch.tensor([0.09, 0.91])"
      ],
      "metadata": {
        "id": "L_JJigxjb8Qj"
      },
      "execution_count": 93,
      "outputs": []
    },
    {
      "cell_type": "code",
      "source": [
        "hidden_layer_1 = DenseLayer(2, 4)\n",
        "activation_1 = Activation_Sigmoid()\n",
        "output_layer = DenseLayer(4, 2)\n",
        "activation2 = Activation_Linear()"
      ],
      "metadata": {
        "id": "kyL-VTEbdM-o"
      },
      "execution_count": 94,
      "outputs": []
    },
    {
      "cell_type": "code",
      "source": [
        "def forward_pass(X):\n",
        "  hidden_layer_1.forward(X)\n",
        "  activation_1.forward(hidden_layer_1.output)\n",
        "  output_layer.forward(activation_1.output)\n",
        "  activation2.forward(output_layer.output)\n",
        "  return activation2.output"
      ],
      "metadata": {
        "id": "Lz_m3yxedNvE"
      },
      "execution_count": 95,
      "outputs": []
    },
    {
      "cell_type": "code",
      "source": [
        "def back_prop(fp):\n",
        "    lr = torch.tensor(0.01)\n",
        "    back1 = (fp[0][0] - y[0]) * (1 - fp[0][0])\n",
        "    back2 = (fp[0][1] - y[1]) * (1 - fp[0][1])\n",
        "\n",
        "    output_layer.weights[0][0] -= lr * back1 * activation_1.output[0][0]\n",
        "    output_layer.weights[0][1] -= lr * back1 * activation_1.output[0][1]\n",
        "    output_layer.weights[1][0] -= lr * back2 * activation_1.output[0][0]\n",
        "    output_layer.weights[1][1] -= lr * back2 * activation_1.output[0][1]\n",
        "    output_layer.biases[0][0] -= lr * back1\n",
        "    output_layer.biases[0][1] -= lr * back2\n",
        "\n",
        "\n",
        "    for i in range(hidden_layer_1.output.shape[1]):\n",
        "        if hidden_layer_1.output[0][i] > 0:\n",
        "            hidden_layer_1.weights[0][i] -= lr * (back1 * output_layer.weights[0][0] + back2 * output_layer.weights[0][1]) * X[0]\n",
        "            hidden_layer_1.weights[1][i] -= lr * (back1 * output_layer.weights[1][0] + back2 * output_layer.weights[1][1]) * X[1]\n",
        "            hidden_layer_1.biases[0][i] -= lr * (back1 * output_layer.weights[0][0] + back2 * output_layer.weights[0][1])\n",
        "\n",
        "\n"
      ],
      "metadata": {
        "id": "np9NA16zdQjG"
      },
      "execution_count": 96,
      "outputs": []
    },
    {
      "cell_type": "code",
      "source": [
        "def error_calculation(y_true, y_pred):\n",
        "  return torch.mean(0.5*(y_true - y_pred)**2)"
      ],
      "metadata": {
        "id": "mumiTvlly2Id"
      },
      "execution_count": 97,
      "outputs": []
    },
    {
      "cell_type": "code",
      "source": [
        "loss = 0.0001"
      ],
      "metadata": {
        "id": "Kv5-EV7ErTEy"
      },
      "execution_count": 98,
      "outputs": []
    },
    {
      "cell_type": "code",
      "source": [
        "y_pred = forward_pass(X)\n",
        "err = error_calculation(y, y_pred)\n",
        "print(\"Initial loss:\", err)\n",
        "print(\"Initial prediction:\",y_pred)\n",
        "while err > loss:\n",
        "  back_prop(y_pred)\n",
        "  y_pred = forward_pass(X)\n",
        "  err = error_calculation(y, y_pred)\n",
        "print(\"Final loss:\", err)\n",
        "print(\"Final prediction:\",y_pred)\n",
        "print(\"Target value:\",y)"
      ],
      "metadata": {
        "colab": {
          "base_uri": "https://localhost:8080/"
        },
        "id": "MQaRrsFTdWA_",
        "outputId": "387532e8-d57c-49f3-ce31-b642b29f13ac"
      },
      "execution_count": 99,
      "outputs": [
        {
          "output_type": "stream",
          "name": "stdout",
          "text": [
            "Initial loss: tensor(0.2000)\n",
            "Initial prediction: tensor([[0.0202, 0.0184]])\n",
            "Final loss: tensor(9.9952e-05)\n",
            "Final prediction: tensor([[0.0913, 0.8900]])\n",
            "Target value: tensor([0.0900, 0.9100])\n"
          ]
        }
      ]
    }
  ]
}