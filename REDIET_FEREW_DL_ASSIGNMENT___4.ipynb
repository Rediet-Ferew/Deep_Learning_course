{
  "nbformat": 4,
  "nbformat_minor": 0,
  "metadata": {
    "colab": {
      "provenance": []
    },
    "kernelspec": {
      "name": "python3",
      "display_name": "Python 3"
    },
    "language_info": {
      "name": "python"
    }
  },
  "cells": [
    {
      "cell_type": "markdown",
      "source": [
        "### Name: REDIET FEREW\n",
        "### ID No.: UGR/1415/12"
      ],
      "metadata": {
        "id": "JRurH8xm1qbO"
      }
    },
    {
      "cell_type": "code",
      "execution_count": 134,
      "metadata": {
        "id": "7t1st7lxZZIN"
      },
      "outputs": [],
      "source": [
        "import torch"
      ]
    },
    {
      "cell_type": "code",
      "source": [
        "class DenseLayer:\n",
        "\n",
        "  def __init__(self, features, neurons):\n",
        "\n",
        "    self.weights = 0.01 * torch.rand(features, neurons)\n",
        "    self.biases = torch.zeros((1, neurons))\n",
        "\n",
        "  def forward(self, inputs):\n",
        "    self.output = torch.matmul(inputs, self.weights) + self.biases"
      ],
      "metadata": {
        "id": "n_dAFPneaAR4"
      },
      "execution_count": 135,
      "outputs": []
    },
    {
      "cell_type": "code",
      "source": [
        "class Activation_Sigmoid:\n",
        "  def forward(self, inputs):\n",
        "\n",
        "    shape_x = inputs.shape\n",
        "    ones = torch.full(shape_x, 1)\n",
        "\n",
        "    sum_x = ones + inputs\n",
        "\n",
        "    res = ones / sum_x\n",
        "    self.output = res"
      ],
      "metadata": {
        "id": "yWex7GuzaBb4"
      },
      "execution_count": 136,
      "outputs": []
    },
    {
      "cell_type": "code",
      "source": [
        "class Activation_Linear:\n",
        "  def forward(self, inputs):\n",
        "    self.output = inputs"
      ],
      "metadata": {
        "id": "VtdDPXMcxmjw"
      },
      "execution_count": 137,
      "outputs": []
    },
    {
      "cell_type": "code",
      "source": [
        "X = torch.tensor([0.6, 0.8])\n",
        "y = torch.tensor([0.09, 0.91])"
      ],
      "metadata": {
        "id": "L_JJigxjb8Qj"
      },
      "execution_count": 138,
      "outputs": []
    },
    {
      "cell_type": "code",
      "source": [
        "hidden_layer_1 = DenseLayer(2, 4)\n",
        "activation_1 = Activation_Sigmoid()\n",
        "output_layer = DenseLayer(4, 2)\n",
        "activation2 = Activation_Linear()"
      ],
      "metadata": {
        "id": "kyL-VTEbdM-o"
      },
      "execution_count": 139,
      "outputs": []
    },
    {
      "cell_type": "code",
      "source": [
        "def forward_pass(X):\n",
        "  hidden_layer_1.forward(X)\n",
        "  activation_1.forward(hidden_layer_1.output)\n",
        "  output_layer.forward(activation_1.output)\n",
        "  activation2.forward(output_layer.output)\n",
        "  return activation2.output"
      ],
      "metadata": {
        "id": "Lz_m3yxedNvE"
      },
      "execution_count": 140,
      "outputs": []
    },
    {
      "cell_type": "code",
      "source": [
        "def linear_back(input):\n",
        "    return torch.ones_like(input)\n",
        "def sigmoid_back(input):\n",
        "    return input * (1 - input)"
      ],
      "metadata": {
        "id": "EvDNDxtI73ue"
      },
      "execution_count": 141,
      "outputs": []
    },
    {
      "cell_type": "code",
      "source": [
        "def back_prop(fp):\n",
        "    lr = torch.tensor(0.01)\n",
        "    back1 = (fp[0][0] - y[0]) * (1 - fp[0][0])\n",
        "    back2 = (fp[0][1] - y[1]) * (1 - fp[0][1])\n",
        "\n",
        "    output_layer.weights[0][0] -= lr * back1 * activation_1.output[0][0]\n",
        "    output_layer.weights[0][1] -= lr * back1 * activation_1.output[0][1]\n",
        "    output_layer.weights[1][0] -= lr * back2 * activation_1.output[0][0]\n",
        "    output_layer.weights[1][1] -= lr * back2 * activation_1.output[0][1]\n",
        "    output_layer.biases[0][0] -= lr * back1\n",
        "    output_layer.biases[0][1] -= lr * back2\n",
        "\n",
        "    hidden_delta_1 = sigmoid_back(hidden_layer_1.output[0][0]) * (back1 * output_layer.weights[0][0] + back2 * output_layer.weights[1][0])\n",
        "    hidden_delta_2 = sigmoid_back(hidden_layer_1.output[0][1]) * (back1 * output_layer.weights[0][1] + back2 * output_layer.weights[1][1])\n",
        "    hidden_delta_3 = sigmoid_back(hidden_layer_1.output[0][2]) * (back1 * output_layer.weights[2][0] + back2 * output_layer.weights[3][0])\n",
        "    hidden_delta_4 = sigmoid_back(hidden_layer_1.output[0][3]) * (back1 * output_layer.weights[2][1] + back2 * output_layer.weights[3][1])\n",
        "\n",
        "\n",
        "    hidden_layer_1.weights[0][0] -= lr * hidden_delta_1 * X[0]\n",
        "    hidden_layer_1.weights[0][1] -= lr * hidden_delta_2 * X[0]\n",
        "    hidden_layer_1.weights[0][2] -= lr * hidden_delta_3 * X[0]\n",
        "    hidden_layer_1.weights[0][3] -= lr * hidden_delta_4 * X[0]\n",
        "    hidden_layer_1.weights[1][0] -= lr * hidden_delta_1 * X[1]\n",
        "    hidden_layer_1.weights[1][1] -= lr * hidden_delta_2 * X[1]\n",
        "    hidden_layer_1.weights[1][2] -= lr * hidden_delta_3 * X[1]\n",
        "    hidden_layer_1.weights[1][3] -= lr * hidden_delta_4 * X[1]\n",
        "\n",
        "\n",
        "\n",
        "    hidden_layer_1.biases[0][0] -= lr * hidden_delta_1\n",
        "    hidden_layer_1.biases[0][1] -= lr * hidden_delta_2\n",
        "    hidden_layer_1.biases[0][2] -= lr * hidden_delta_3\n",
        "    hidden_layer_1.biases[0][3] -= lr * hidden_delta_4\n",
        "\n",
        "\n"
      ],
      "metadata": {
        "id": "np9NA16zdQjG"
      },
      "execution_count": 142,
      "outputs": []
    },
    {
      "cell_type": "code",
      "source": [
        "def error_calculation(y_true, y_pred):\n",
        "  return torch.mean(0.5*(y_true - y_pred)**2)"
      ],
      "metadata": {
        "id": "mumiTvlly2Id"
      },
      "execution_count": 143,
      "outputs": []
    },
    {
      "cell_type": "code",
      "source": [
        "loss = 0.0001"
      ],
      "metadata": {
        "id": "Kv5-EV7ErTEy"
      },
      "execution_count": 144,
      "outputs": []
    },
    {
      "cell_type": "code",
      "source": [
        "y_pred = forward_pass(X)\n",
        "err = error_calculation(y, y_pred)\n",
        "print(\"Initial loss:\", err)\n",
        "print(\"Initial prediction:\",y_pred)\n",
        "while err > loss:\n",
        "  back_prop(y_pred)\n",
        "  y_pred = forward_pass(X)\n",
        "  err = error_calculation(y, y_pred)\n",
        "print(\"Final loss:\", err)\n",
        "print(\"Final prediction:\",y_pred)\n",
        "print(\"Target value:\",y)"
      ],
      "metadata": {
        "colab": {
          "base_uri": "https://localhost:8080/"
        },
        "id": "MQaRrsFTdWA_",
        "outputId": "dcbf06f2-7d74-48ef-a2e8-3cd911c50f27"
      },
      "execution_count": 145,
      "outputs": [
        {
          "output_type": "stream",
          "name": "stdout",
          "text": [
            "Initial loss: tensor(0.1969)\n",
            "Initial prediction: tensor([[0.0175, 0.0255]])\n",
            "Final loss: tensor(9.9695e-05)\n",
            "Final prediction: tensor([[0.0913, 0.8901]])\n",
            "Target value: tensor([0.0900, 0.9100])\n"
          ]
        }
      ]
    },
    {
      "cell_type": "code",
      "source": [],
      "metadata": {
        "id": "LU4xPL7O4RHc"
      },
      "execution_count": 145,
      "outputs": []
    }
  ]
}