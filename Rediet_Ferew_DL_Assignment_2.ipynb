{
  "nbformat": 4,
  "nbformat_minor": 0,
  "metadata": {
    "colab": {
      "provenance": []
    },
    "kernelspec": {
      "name": "python3",
      "display_name": "Python 3"
    },
    "language_info": {
      "name": "python"
    }
  },
  "cells": [
    {
      "cell_type": "markdown",
      "source": [
        "### Name: REDIET FEREW\n",
        "### ID No.: UGR/1415/12"
      ],
      "metadata": {
        "id": "WmHA0FABGtWx"
      }
    },
    {
      "cell_type": "code",
      "execution_count": 3,
      "metadata": {
        "colab": {
          "base_uri": "https://localhost:8080/"
        },
        "id": "Tu96WG128U4F",
        "outputId": "7c03e7ed-57f2-4f55-a237-2bdc7931e96c"
      },
      "outputs": [
        {
          "output_type": "stream",
          "name": "stdout",
          "text": [
            "tensor([[5.6879e-06, 9.1342e-06, 5.2818e-06, 7.3705e-06, 6.1112e-06],\n",
            "        [3.2220e-06, 5.1701e-06, 2.9891e-06, 4.1713e-06, 3.4616e-06],\n",
            "        [5.1374e-06, 8.2347e-06, 4.7604e-06, 6.6414e-06, 5.5184e-06],\n",
            "        [5.8024e-06, 9.3167e-06, 5.3897e-06, 7.5155e-06, 6.2346e-06],\n",
            "        [4.7023e-06, 7.5409e-06, 4.3603e-06, 6.0805e-06, 5.0523e-06]])\n",
            "torch.Size([5, 5])\n"
          ]
        }
      ],
      "source": [
        "import torch\n",
        "\n",
        "class DenseLayer():\n",
        "  def __init__(self, features, neurons):\n",
        "    self.weight = 0.01 * torch.rand(neurons, features)\n",
        "    self.biases = torch.zeros(1, neurons)\n",
        "  def forward(self, inputs):\n",
        "    self.output = torch.matmul(inputs, self.weight.T) + self.biases\n",
        "\n",
        "# Number of features\n",
        "features = 5\n",
        "# Neurons in input layers\n",
        "neuron_1, neuron_2, neuron_3 = 16, 16, 16\n",
        "#output class\n",
        "output_class = 5\n",
        "# Number of samples\n",
        "samples = 5\n",
        "\n",
        "input = torch.rand(samples, features)\n",
        "layer_1 = DenseLayer(features, neuron_1)\n",
        "layer_1.forward(input)\n",
        "\n",
        "layer_2 = DenseLayer(layer_1.output.shape[1], neuron_2)\n",
        "layer_2.forward(layer_1.output)\n",
        "\n",
        "layer_3 = DenseLayer(layer_2.output.shape[1], neuron_3)\n",
        "layer_3.forward(layer_2.output)\n",
        "\n",
        "output_layer = DenseLayer(layer_3.output.shape[1], output_class)\n",
        "output_layer.forward(layer_3.output)\n",
        "\n",
        "print(output_layer.output)\n",
        "print(output_layer.output.shape)"
      ]
    },
    {
      "cell_type": "code",
      "source": [],
      "metadata": {
        "id": "NInz9YfgDiwP"
      },
      "execution_count": null,
      "outputs": []
    }
  ]
}